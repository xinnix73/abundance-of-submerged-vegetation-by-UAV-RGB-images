{
 "cells": [
  {
   "cell_type": "code",
   "execution_count": 1,
   "id": "ec73dc1a-17c7-4c46-ac1e-6528dfbefc9e",
   "metadata": {
    "tags": []
   },
   "outputs": [],
   "source": [
    "import cv2\n",
    "import numpy as np\n",
    "import tkinter as tk\n",
    "from tkinter import filedialog\n",
    "import os\n",
    "from osgeo import gdal\n",
    "from scipy import stats\n",
    "import math\n",
    "from math import log10, sqrt\n",
    "import pysptools.eea as eea\n",
    "import pysptools.abundance_maps as amp\n",
    "from scipy.optimize import nnls\n",
    "from sklearn.preprocessing import normalize\n",
    "from cvxopt import solvers, matrix"
   ]
  },
  {
   "cell_type": "code",
   "execution_count": 2,
   "id": "45c01152-cf0b-4e2a-8064-0a63eb96d03e",
   "metadata": {
    "tags": []
   },
   "outputs": [],
   "source": [
    "def qunan(img):\n",
    "    gray = img[~np.isnan(img)]\n",
    "    return gray\n",
    "def baocun(gray,name):\n",
    "    im_width = dataset.RasterXSize    #栅格矩阵的列数\n",
    "    im_height = dataset.RasterYSize   #栅格矩阵的行数\n",
    "    im_geotrans = dataset.GetGeoTransform()  #仿射矩阵\n",
    "    im_proj = dataset.GetProjection() #地图投影信息\n",
    "    driver = gdal.GetDriverByName(\"GTiff\")                \n",
    "    dataset2 = driver.Create(name, im_width, im_height, 1, gdal.GDT_Float32,options=['COMPRESS=LZW'])\n",
    "    dataset2.SetGeoTransform(im_geotrans)              #写入仿射变换参数\n",
    "    dataset2.SetProjection(im_proj)\n",
    "    dataset2.GetRasterBand(1).WriteArray(gray)\n",
    "    del dataset2\n",
    "def baocun2(band_list,savepath):\n",
    "    im_width = dataset.RasterXSize    #栅格矩阵的列数\n",
    "    im_height = dataset.RasterYSize   #栅格矩阵的行数\n",
    "    im_geotrans = dataset.GetGeoTransform()  #仿射矩阵\n",
    "    im_proj = dataset.GetProjection() #地图投影信息\n",
    "    driver = gdal.GetDriverByName(\"GTiff\")            \n",
    "    dataset2 = driver.Create(savepath, im_width, im_height, band_list.shape[0], gdal.GDT_Float32,options=['COMPRESS=LZW'])\n",
    "    dataset2.SetGeoTransform(im_geotrans)              #写入仿射变换参数\n",
    "    dataset2.SetProjection(im_proj)\n",
    "    for v in range(band_list.shape[0]):\n",
    "        dataset2.GetRasterBand(v+1).WriteArray(band_list[v])\n",
    "    del dataset2"
   ]
  },
  {
   "cell_type": "code",
   "execution_count": 3,
   "id": "b319dc04-3600-473c-b6db-4af4a7a15923",
   "metadata": {},
   "outputs": [],
   "source": [
    "filename_list_all = filedialog.askopenfilenames()\n",
    "%gui tk"
   ]
  },
  {
   "cell_type": "code",
   "execution_count": 4,
   "id": "f5715163-748e-499b-8b71-c47d8db03b25",
   "metadata": {
    "tags": []
   },
   "outputs": [
    {
     "data": {
      "text/plain": [
       "('D:/xin/无人机覆盖度模型/一种新的SAV提取方法/sav0091_transparent_mosaic_group1.tif',)"
      ]
     },
     "execution_count": 4,
     "metadata": {},
     "output_type": "execute_result"
    }
   ],
   "source": [
    "filename_list_all"
   ]
  },
  {
   "cell_type": "code",
   "execution_count": 16,
   "id": "0db43ac2-ebfd-426b-9fd1-dcb1303db17a",
   "metadata": {
    "tags": []
   },
   "outputs": [],
   "source": [
    "#path = 'D:/xin/无人机覆盖度模型/一种新的SAV提取方法/76-80_transparent_mosaic_group1.tif'\n",
    "path = 'D:/xin/无人机覆盖度模型/一种新的SAV提取方法/9091_transparent_mosaic_group1.tif'\n",
    "#path = 'D:/xin/无人机覆盖度模型/裁剪/bifenggang/bifenggang_481.tif'\n",
    "#path = 'D:/xin/无人机覆盖度模型/bifenggang.tif'\n",
    "dataset = gdal.Open(path)\n",
    "#data = dataset.ReadAsArray()\n",
    "b=dataset.GetRasterBand(1).ReadAsArray()\n",
    "g=dataset.GetRasterBand(2).ReadAsArray()\n",
    "r=dataset.GetRasterBand(3).ReadAsArray()\n",
    "m,n = b.shape\n",
    "RGB_img = cv2.merge([b,g,r])\n",
    "HSV_img = cv2.cvtColor(RGB_img ,cv2.COLOR_BGR2HSV)\n",
    "h = HSV_img[:,:,0:1].reshape(m,n)\n",
    "s = HSV_img[:,:,1:2].reshape(m,n)\n",
    "v = HSV_img[:,:,2:3].reshape(m,n)\n",
    "#hsv_sample = np.stack((h, s, v), axis=-1).reshape((-1, 3))\n",
    "#rgb_sample = np.stack((r, g, b), axis=-1).reshape((-1, 3))\n",
    "#h1 = h[(h>0)&(s>0)&(v>0)].reshape(-1,1)\n",
    "#s1 = s[(h>0)&(s>0)&(v>0)].reshape(-1,1)\n",
    "#v1 = v[(h>0)&(s>0)&(v>0)].reshape(-1,1)\n",
    "#hsv_sample_nozero = np.dstack((h1, s1, v1)).reshape(-1,3)\n",
    "#\n",
    "#r1 = r[(r>0)&(r>0)&(r>0)].reshape(-1,1)\n",
    "#g1 = g[(g>0)&(g>0)&(g>0)].reshape(-1,1)\n",
    "#b1 = b[(b>0)&(b>0)&(b>0)].reshape(-1,1)\n",
    "#rgb_sample_nozero = np.dstack((r1, b1, g1)).reshape(-1,3)"
   ]
  },
  {
   "cell_type": "code",
   "execution_count": 18,
   "id": "6f776fbf-7b02-4e7f-a727-5ca99dde8799",
   "metadata": {
    "tags": []
   },
   "outputs": [],
   "source": [
    "final = np.copy(v)"
   ]
  },
  {
   "cell_type": "code",
   "execution_count": 19,
   "id": "70a76d52-e46c-4d42-93c8-73191134eda6",
   "metadata": {
    "tags": []
   },
   "outputs": [],
   "source": [
    "final = np.where(final == 0, np.nan, final)\n",
    "final[(final>=159)]=0\n",
    "final[(final>1)&(final<159)]=1"
   ]
  },
  {
   "cell_type": "code",
   "execution_count": 20,
   "id": "a6c3c476-b302-42a6-9b56-7929ec7d684e",
   "metadata": {
    "tags": []
   },
   "outputs": [],
   "source": [
    "#f = 2*s-h-v\n",
    "baocun(final,'D:/xin/无人机覆盖度模型/一种新的SAV提取方法/9091_transparent_mosaic_group1(hsv_v).tif')"
   ]
  },
  {
   "cell_type": "code",
   "execution_count": 17,
   "id": "f0f33003-0524-40e7-807b-7e88192e201a",
   "metadata": {
    "tags": []
   },
   "outputs": [],
   "source": [
    "final = np.array([h,s,v])\n",
    "baocun2(final,'D:/xin/无人机覆盖度模型/一种新的SAV提取方法/9091_transparent_mosaic_group1(hsv).tif')"
   ]
  },
  {
   "cell_type": "code",
   "execution_count": null,
   "id": "c71a6e83-14f0-484f-8f44-32a76d31aa1f",
   "metadata": {},
   "outputs": [],
   "source": [
    "#注：1. ndindr不需要（m,n,p）格式的M，（m*n，1，p）结果一样\n",
    "#2. normalized_matrix = matrix / np.sum(matrix, axis=1, keepdims=True)"
   ]
  },
  {
   "cell_type": "code",
   "execution_count": 32,
   "id": "a7df7871-9175-46a1-bb98-4460e33b8671",
   "metadata": {
    "tags": []
   },
   "outputs": [],
   "source": [
    "###### RGB ############\n",
    "#纯净像元目视结果\n",
    "#高生长型（80，144，144）\n",
    "#草甸（84，154，141）\n",
    "#水体（97，175，148）\n",
    "#纯净像元ndindr（未去0）\n",
    "#[173. 215. 173.]\n",
    "# [ 95. 180. 143.]\n",
    "# [ 93. 136. 145.]\n",
    "#纯净像元ndindr（去0）\n",
    "#[[159. 100. 188.]\n",
    "# [ 98.  69.  92.]\n",
    "# [179. 176. 217.]]\n",
    "\n",
    "#########HSV#########\n",
    "#纯净像元目视结果\n",
    "#高生长型[29,81,116]\n",
    "#草甸  [35,114,154]\n",
    "#水体  [40,112,175]\n",
    "#纯净像元ndindr（去0）\n",
    "#[[ 27. 140. 102.]\n",
    "# [ 30.  46. 110.]\n",
    "# [ 40.  77. 249.]]\n"
   ]
  },
  {
   "cell_type": "code",
   "execution_count": 89,
   "id": "af062468-1997-4d8c-925b-2e8151abbd47",
   "metadata": {
    "tags": []
   },
   "outputs": [
    {
     "name": "stdout",
     "output_type": "stream",
     "text": [
      "[[ 27. 140. 102.]\n",
      " [ 30.  46. 110.]\n",
      " [ 40.  77. 249.]]\n"
     ]
    }
   ],
   "source": [
    "#NFINDR-HSV（no-0）-3\n",
    "nfindr = eea.NFINDR()\n",
    "extract = nfindr.extract(hsv_sample_nozero.reshape(-1,1,3), 3, maxit=None, normalize=False, ATGP_init=True)\n",
    "print(extract)\n",
    "mix_pixels = hsv_sample.T\n",
    "components = extract.T\n",
    "weights = np.zeros((components.shape[1], mix_pixels.shape[1]))\n",
    "for i in range(mix_pixels.shape[1]):\n",
    "    weights[:, i], _ = nnls(components, mix_pixels[:, i])\n",
    "em1 = weights.T.reshape((m, n, 3))[:, :, 0]\n",
    "em2 = weights.T.reshape((m, n, 3))[:, :, 1]\n",
    "em3 = weights.T.reshape((m, n, 3))[:, :, 2]\n",
    "em_all = np.array([em1,em2,em3])\n",
    "baocun2(em_all,'D:/xin/无人机覆盖度模型/一种新的SAV提取方法/无人机裁剪后的数据/无人机76-80part3_am(NFINDR3-HSV-no0).tif')"
   ]
  },
  {
   "cell_type": "code",
   "execution_count": 81,
   "id": "bdce457d-e8af-46b9-979e-b327fcafd5e5",
   "metadata": {
    "tags": []
   },
   "outputs": [
    {
     "name": "stdout",
     "output_type": "stream",
     "text": [
      "[[159. 100. 188.]\n",
      " [ 98.  69.  92.]\n",
      " [179. 176. 217.]]\n"
     ]
    }
   ],
   "source": [
    "#NFINDR-RGB（no-0）-3\n",
    "nfindr = eea.NFINDR()\n",
    "extract = nfindr.extract(rgb_sample_nozero.reshape(-1,1,3), 3, maxit=None, normalize=False, ATGP_init=True)\n",
    "print(extract)\n",
    "mix_pixels = rgb_sample.T\n",
    "components = extract.T\n",
    "weights = np.zeros((components.shape[1], mix_pixels.shape[1]))\n",
    "for i in range(mix_pixels.shape[1]):\n",
    "    weights[:, i], _ = nnls(components, mix_pixels[:, i])\n",
    "em1 = weights.T.reshape((m, n, 3))[:, :, 0]\n",
    "em2 = weights.T.reshape((m, n, 3))[:, :, 1]\n",
    "em3 = weights.T.reshape((m, n, 3))[:, :, 2]\n",
    "em_all = np.array([em1,em2,em3])\n",
    "baocun2(em_all,'D:/xin/无人机覆盖度模型/一种新的SAV提取方法/无人机裁剪后的数据/无人机76-80part3_am(NFINDR3-RGB-no0).tif')"
   ]
  },
  {
   "cell_type": "code",
   "execution_count": 31,
   "id": "cf3a8268-0ce5-483f-8e7a-5abecfaebc6a",
   "metadata": {
    "tags": []
   },
   "outputs": [
    {
     "name": "stdout",
     "output_type": "stream",
     "text": [
      "[[173. 215. 173.]\n",
      " [ 95. 180. 143.]\n",
      " [ 93. 136. 145.]\n",
      " [  0.   0.   0.]]\n"
     ]
    }
   ],
   "source": [
    "#NFINDR-RGB（0）-4（3）\n",
    "nfindr = eea.NFINDR()\n",
    "extract = nfindr.extract(RGB_img, 4, maxit=None, normalize=False, ATGP_init=True)\n",
    "print(extract)\n",
    "mix_pixels = rgb_sample.T\n",
    "components = extract[0:3,:].T\n",
    "weights = np.zeros((components.shape[1], mix_pixels.shape[1]))\n",
    "for i in range(mix_pixels.shape[1]):\n",
    "    weights[:, i], _ = nnls(components, mix_pixels[:, i])\n",
    "em1 = weights.T.reshape((m, n, 3))[:, :, 0]\n",
    "em2 = weights.T.reshape((m, n, 3))[:, :, 1]\n",
    "em3 = weights.T.reshape((m, n, 3))[:, :, 2]\n",
    "em_all = np.array([em1,em2,em3])\n",
    "baocun2(em_all,'D:/xin/无人机覆盖度模型/一种新的SAV提取方法/无人机裁剪后的数据/无人机76-80part3_am(NFINDR3-RGB).tif')"
   ]
  },
  {
   "cell_type": "code",
   "execution_count": 37,
   "id": "e713f63c-df21-4d2d-828e-4b968e8f1463",
   "metadata": {
    "tags": []
   },
   "outputs": [],
   "source": [
    "#手动纯净像元RGB\n",
    "shoudong = np.array([[80,144,144]\n",
    "                    ,[84,154,141]\n",
    "                    ,[97,175,148]])\n",
    "mix_pixels = rgb_sample.T\n",
    "components = shoudong.T\n",
    "weights = np.zeros((components.shape[1], mix_pixels.shape[1]))\n",
    "for i in range(mix_pixels.shape[1]):\n",
    "    weights[:, i], _ = nnls(components, mix_pixels[:, i])\n",
    "em1 = weights.T.reshape((m, n, 3))[:, :, 0]\n",
    "em2 = weights.T.reshape((m, n, 3))[:, :, 1]\n",
    "em3 = weights.T.reshape((m, n, 3))[:, :, 2]\n",
    "em_all = np.array([em1,em2,em3])\n",
    "baocun2(em_all,'D:/xin/无人机覆盖度模型/一种新的SAV提取方法/无人机裁剪后的数据/无人机76-80part3_am(shoudong3-RGB).tif')"
   ]
  },
  {
   "cell_type": "code",
   "execution_count": 125,
   "id": "15e2fede-4066-429a-8c32-ac3e96c01bf6",
   "metadata": {
    "tags": []
   },
   "outputs": [],
   "source": [
    "#手动纯净像元HSV\n",
    "shoudong = np.array([[29,81,116]\n",
    "                    ,[35,114,154]\n",
    "                    ,[40,112,175]])\n",
    "mix_pixels = hsv_sample.T\n",
    "components = shoudong.T\n",
    "weights = np.zeros((components.shape[1], mix_pixels.shape[1]))\n",
    "for i in range(mix_pixels.shape[1]):\n",
    "    weights[:, i], _ = nnls(components, mix_pixels[:, i])\n",
    "em1 = weights.T.reshape((m, n, 3))[:, :, 0]\n",
    "em2 = weights.T.reshape((m, n, 3))[:, :, 1]\n",
    "em3 = weights.T.reshape((m, n, 3))[:, :, 2]\n",
    "em_all = np.array([em1,em2,em3])\n",
    "baocun2(em_all,'D:/xin/无人机覆盖度模型/一种新的SAV提取方法/无人机裁剪后的数据/无人机76-80part3_am(shoudong3-hsv).tif')"
   ]
  },
  {
   "cell_type": "code",
   "execution_count": null,
   "id": "c251e465-28a8-4d94-beb1-8ed881d6cc12",
   "metadata": {},
   "outputs": [],
   "source": []
  },
  {
   "cell_type": "code",
   "execution_count": 20,
   "id": "e60906a4-f7ad-4ba9-bdc9-e1a71d4dccfa",
   "metadata": {
    "tags": []
   },
   "outputs": [],
   "source": [
    "################原始fcls\n",
    "def _numpy_to_cvxopt_matrix(A):\n",
    "    from cvxopt import matrix\n",
    "    A = np.array(A, dtype=np.float64)\n",
    "    if A.ndim == 1:\n",
    "        return matrix(A, (A.shape[0], 1), 'd')\n",
    "    else:\n",
    "        return matrix(A, A.shape, 'd')\n",
    "\n",
    "\n",
    "def _numpy_None_vstack(A1, A2):\n",
    "    if A1 is None:\n",
    "        return A2\n",
    "    else:\n",
    "        return np.vstack([A1, A2])\n",
    "\n",
    "\n",
    "def _numpy_None_concatenate(A1, A2):\n",
    "    if A1 is None:\n",
    "        return A2\n",
    "    else:\n",
    "        return np.concatenate([A1, A2])\n",
    "\n",
    "\n",
    "def _normalize(M):\n",
    "\n",
    "    minVal = np.min(M)\n",
    "    maxVal = np.max(M)\n",
    "\n",
    "    Mn = M - minVal\n",
    "\n",
    "    if maxVal == minVal:\n",
    "        return np.zeros(M.shape)\n",
    "    else:\n",
    "        return Mn / (maxVal-minVal)\n",
    "\n",
    "\n",
    "class FCLS(object):\n",
    "    def __init__(self):\n",
    "        self.amap = None\n",
    "        self.m = None\n",
    "        self.n = None\n",
    "        self.q = None\n",
    "\n",
    "    def map(self, M, U, normalize=False, mask=None):\n",
    "\n",
    "        h, w, numBands = M.shape\n",
    "        if normalize:\n",
    "            M = _normalize(M)\n",
    "            U = _normalize(U)\n",
    "        Mr = np.reshape(M, (w*h, numBands))\n",
    "        if isinstance(mask, np.ndarray):\n",
    "            m = np.reshape(mask, (w*h))\n",
    "            cMr = _compress(Mr, m)\n",
    "            c_amap2D = fcls_real(cMr, U)\n",
    "            amap2D = _expand(c_amap2D, m, w*h, U.shape[0])\n",
    "        else:\n",
    "            amap2D = fcls_real(Mr, U)\n",
    "        self.amap = np.reshape(amap2D, (h, w, U.shape[0]))\n",
    "        self.m = h\n",
    "        self.n = w\n",
    "        self.q = U.shape[0]\n",
    "        return self.amap\n",
    "\n",
    "    def __str__(self):\n",
    "        return 'pysptools.abundance_maps.amaps_int.FCLS object, maps: {0}x{1}x{2}'.format(self.m, self.n, self.q)\n",
    "\n",
    "    def plot(self, path, mask= None, interpolation='none', colorMap='jet', columns=None, suffix=None):\n",
    "        _plot_abundance_map(self.amap, path, 'FCLS', mask, interpolation, colorMap, columns, suffix)\n",
    "\n",
    "    def display(self, mask= None, interpolation='none', colorMap='jet', columns=None, suffix=None):\n",
    "        _plot_abundance_map(self.amap, None, 'FCLS', mask, interpolation, colorMap, columns, suffix)\n",
    "\n",
    "\n",
    "def fcls_real(M, U):\n",
    "    solvers.options['show_progress'] = False\n",
    "    N, p1 = M.shape\n",
    "    nvars, p2 = U.shape\n",
    "\n",
    "    C = _numpy_to_cvxopt_matrix(U.T)\n",
    "    Q = C.T * C\n",
    "\n",
    "    lb_A = -np.eye(nvars)\n",
    "    lb = np.repeat(0, nvars)\n",
    "    A = _numpy_None_vstack(None, lb_A)\n",
    "    b = _numpy_None_concatenate(None, -lb)\n",
    "    A = _numpy_to_cvxopt_matrix(A)\n",
    "    b = _numpy_to_cvxopt_matrix(b)\n",
    "\n",
    "    Aeq = _numpy_to_cvxopt_matrix(np.ones((1,nvars)))\n",
    "    beq = _numpy_to_cvxopt_matrix(np.ones(1))\n",
    "\n",
    "    M = np.array(M, dtype=np.float64)\n",
    "    X = np.zeros((N, nvars), dtype=np.float32)\n",
    "    for n1 in range(N):\n",
    "        d = matrix(M[n1], (p1, 1), 'd')\n",
    "        q = - d.T * C\n",
    "        sol = solvers.qp(Q, q.T, A, b, Aeq, beq, None, None)['x']\n",
    "        X[n1] = np.array(sol).squeeze()\n",
    "    return X\n",
    "\n"
   ]
  },
  {
   "cell_type": "code",
   "execution_count": 27,
   "id": "86c0d3f8-bb85-4281-a6db-1f0cd3b0f3a5",
   "metadata": {
    "tags": []
   },
   "outputs": [],
   "source": [
    "#fcls_real(hsv_sample ,np.array([[29,81,116]\n",
    "#                    ,[35,114,154]\n",
    "#                    ,[40,112,175]]))"
   ]
  },
  {
   "cell_type": "code",
   "execution_count": 27,
   "id": "47cebb62-7057-4a95-97e7-f3ae3655bb92",
   "metadata": {
    "tags": []
   },
   "outputs": [
    {
     "data": {
      "text/plain": [
       "array([[9.9961239e-01, 3.8760836e-04],\n",
       "       [1.0239016e-03, 9.9897611e-01],\n",
       "       [9.8368467e-08, 9.9999988e-01]], dtype=float32)"
      ]
     },
     "execution_count": 27,
     "metadata": {},
     "output_type": "execute_result"
    }
   ],
   "source": [
    "################改进fcls\n",
    "import numpy as np\n",
    "from cvxopt import matrix, solvers\n",
    "\n",
    "def _normalize(M):\n",
    "    minVal = np.min(M)\n",
    "    maxVal = np.max(M)\n",
    "    Mn = M - minVal\n",
    "    if maxVal == minVal:\n",
    "        return np.zeros(M.shape)\n",
    "    else:\n",
    "        return Mn / (maxVal - minVal)\n",
    "\n",
    "def fcls_real(M, U):\n",
    "    solvers.options['show_progress'] = False\n",
    "    N, p1 = M.shape\n",
    "    nvars, p2 = U.shape\n",
    "\n",
    "    C = matrix(U.T, (p2, nvars), 'd')\n",
    "    Q = C.T * C\n",
    "\n",
    "    lb_A = -np.eye(nvars)\n",
    "    lb = np.repeat(0, nvars)\n",
    "    A = matrix(lb_A, (nvars, nvars), 'd')\n",
    "    b = matrix(lb, (nvars, 1), 'd')\n",
    "\n",
    "    Aeq = matrix(np.ones((1, nvars)), (1, nvars), 'd')\n",
    "    beq = matrix(np.ones(1), (1, 1), 'd')\n",
    "\n",
    "    X = np.zeros((N, nvars), dtype=np.float32)\n",
    "    for n1 in range(N):\n",
    "        d = matrix(M[n1], (p1, 1), 'd')\n",
    "        q = - d.T * C\n",
    "        sol = solvers.qp(Q, q.T, A, b, Aeq, beq, None, None)['x']\n",
    "        X[n1] = np.array(sol).squeeze()\n",
    "\n",
    "    return X\n",
    "\n",
    "M = np.array([[1, 2, 3], [4, 5, 6], [7, 8, 9]])  # 数据矩阵 M\n",
    "U = np.array([[1, 2, 3], [4, 5, 6]])  # 端元成分矩阵 U\n",
    "\n",
    "# 调用函数进行约束线性最小二乘拟合\n",
    "result = fcls_real(M, U)\n",
    "result"
   ]
  },
  {
   "cell_type": "code",
   "execution_count": 28,
   "id": "3c254fdc-fa73-4928-b730-fc7427dd6a84",
   "metadata": {
    "tags": []
   },
   "outputs": [
    {
     "data": {
      "text/plain": [
       "array([[9.99612392e-01, 3.87608375e-04],\n",
       "       [1.02390165e-03, 9.98976098e-01],\n",
       "       [9.83684645e-08, 9.99999902e-01]])"
      ]
     },
     "execution_count": 28,
     "metadata": {},
     "output_type": "execute_result"
    }
   ],
   "source": [
    "################改进fcls2\n",
    "import numpy as np\n",
    "from cvxopt import matrix, solvers\n",
    "from joblib import Parallel, delayed\n",
    "\n",
    "def fcls_real(M, U):\n",
    "    solvers.options['show_progress'] = False\n",
    "    N, p1 = M.shape\n",
    "    nvars, p2 = U.shape\n",
    "\n",
    "    C = matrix(U.T, (p2, nvars), 'd')\n",
    "    Q = C.T * C\n",
    "\n",
    "    lb_A = -np.eye(nvars)\n",
    "    lb = np.repeat(0, nvars)\n",
    "    A = matrix(lb_A, (nvars, nvars), 'd')\n",
    "    b = matrix(lb, (nvars, 1), 'd')\n",
    "\n",
    "    Aeq = matrix(np.ones((1, nvars)), (1, nvars), 'd')\n",
    "    beq = matrix(np.ones(1), (1, 1), 'd')\n",
    "\n",
    "    def solve_optimization(n1):\n",
    "        d = matrix(M[n1], (p1, 1), 'd')\n",
    "        q = - d.T * C\n",
    "        sol = solvers.qp(Q, q.T, A, b, Aeq, beq, None, None)['x']\n",
    "        return np.array(sol).squeeze()\n",
    "\n",
    "    X = Parallel(n_jobs=-1)(delayed(solve_optimization)(n1) for n1 in range(N))\n",
    "    X = np.vstack(X)\n",
    "\n",
    "    return X\n",
    "\n",
    "M = np.array([[1, 2, 3], [4, 5, 6], [7, 8, 9]])  # 数据矩阵 M\n",
    "U = np.array([[1, 2, 3], [4, 5, 6]])  # 端元成分矩阵 U\n",
    "\n",
    "result = fcls_real(M, U)\n",
    "result"
   ]
  },
  {
   "cell_type": "code",
   "execution_count": 45,
   "id": "af8bb86f-9f3d-499a-ad87-198eef1f35a8",
   "metadata": {
    "tags": []
   },
   "outputs": [
    {
     "name": "stdout",
     "output_type": "stream",
     "text": [
      "Estimated Abundances:\n",
      "[[9.67165333e-01 3.10809628e-02 1.75370455e-03]\n",
      " [2.14167419e-01 7.82798825e-01 3.03375590e-03]\n",
      " [2.36277777e-06 2.05893405e-02 9.79408297e-01]\n",
      " [1.62630095e-04 5.33385065e-02 9.46498863e-01]]\n"
     ]
    }
   ],
   "source": [
    "#高斯混合模型计算权重\n",
    "import numpy as np\n",
    "\n",
    "def gaussian(x, mean, std):\n",
    "    return np.exp(-0.5 * ((x - mean) / std) ** 2) / (std * np.sqrt(2 * np.pi))\n",
    "\n",
    "def estimate_abundance(features, means, stds, weights, max_iterations=100, tolerance=1e-6):\n",
    "    num_features = features.shape[1]\n",
    "    num_endmembers = len(means)\n",
    "\n",
    "    # 初始化丰度矩阵\n",
    "    abundances = np.random.rand(features.shape[0], num_endmembers)\n",
    "    abundances /= np.sum(abundances, axis=1, keepdims=True)\n",
    "\n",
    "    for _ in range(max_iterations):\n",
    "        # E步：计算每个像元对应每个地物的后验概率\n",
    "        posteriors = np.zeros((features.shape[0], num_endmembers))\n",
    "        for i in range(num_endmembers):\n",
    "            posteriors[:, i] = weights[i] * np.prod(gaussian(features, means[i], stds[i]), axis=1)\n",
    "        posteriors /= np.sum(posteriors, axis=1, keepdims=True)\n",
    "\n",
    "        # M步：更新丰度矩阵和地物权重\n",
    "        new_abundances = posteriors / np.sum(posteriors, axis=1, keepdims=True)\n",
    "\n",
    "        # 计算收敛条件\n",
    "        diff = np.max(np.abs(new_abundances - abundances))\n",
    "        if diff < tolerance:\n",
    "            break\n",
    "\n",
    "        abundances = new_abundances\n",
    "\n",
    "    return abundances\n",
    "\n",
    "# 示例数据\n",
    "features = np.array([[1.2, 2.5, 3.1],\n",
    "                     [2.0, 1.8, 2.9],\n",
    "                     [3.5, 3.2, 2.7],\n",
    "                     [2.8, 3.0, 1.5]])\n",
    "\n",
    "means = np.array([[1.0, 2.0, 3.0],\n",
    "                  [2.5, 1.5, 2.8],\n",
    "                  [3.2, 3.5, 2.0]])\n",
    "\n",
    "stds = np.array([[0.5, 0.8, 0.7],\n",
    "                 [0.6, 0.7, 0.9],\n",
    "                 [0.7, 0.6, 0.8]])\n",
    "\n",
    "weights = np.array([0.3, 0.3, 0.3])\n",
    "\n",
    "# 估计丰度值\n",
    "abundances = estimate_abundance(features, means, stds, weights)\n",
    "\n",
    "print(\"Estimated Abundances:\")\n",
    "print(abundances)"
   ]
  },
  {
   "cell_type": "code",
   "execution_count": 44,
   "id": "2e735174-082f-4ef6-a433-8ae55b15cfdb",
   "metadata": {
    "tags": []
   },
   "outputs": [
    {
     "name": "stdout",
     "output_type": "stream",
     "text": [
      "Estimated Abundances:\n",
      "[[8.79035272e-01 1.12995211e-01 7.96951725e-03]\n",
      " [6.37302222e-02 9.31755974e-01 4.51380370e-03]\n",
      " [4.74510421e-07 1.65396116e-02 9.83459914e-01]\n",
      " [3.28810623e-05 4.31365857e-02 9.56830533e-01]]\n"
     ]
    }
   ],
   "source": [
    "abundances = estimate_abundance(features, means, stds, weights)\n",
    "\n",
    "print(\"Estimated Abundances:\")\n",
    "print(abundances)"
   ]
  },
  {
   "cell_type": "code",
   "execution_count": null,
   "id": "a03ea9a1-0dcd-4393-b814-d1f89b6448ea",
   "metadata": {},
   "outputs": [],
   "source": []
  }
 ],
 "metadata": {
  "kernelspec": {
   "display_name": "Python 3 (ipykernel)",
   "language": "python",
   "name": "python3"
  },
  "language_info": {
   "codemirror_mode": {
    "name": "ipython",
    "version": 3
   },
   "file_extension": ".py",
   "mimetype": "text/x-python",
   "name": "python",
   "nbconvert_exporter": "python",
   "pygments_lexer": "ipython3",
   "version": "3.11.5"
  }
 },
 "nbformat": 4,
 "nbformat_minor": 5
}
